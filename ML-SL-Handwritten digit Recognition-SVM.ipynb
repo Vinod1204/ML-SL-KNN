{
 "cells": [
  {
   "cell_type": "code",
   "execution_count": 1,
   "id": "f42dfe97",
   "metadata": {},
   "outputs": [],
   "source": [
    "import numpy as np\n",
    "from sklearn.datasets import load_digits"
   ]
  },
  {
   "cell_type": "code",
   "execution_count": 4,
   "id": "3e2435fe",
   "metadata": {},
   "outputs": [],
   "source": [
    "df=load_digits()"
   ]
  },
  {
   "cell_type": "code",
   "execution_count": 5,
   "id": "31dac7d4",
   "metadata": {},
   "outputs": [
    {
     "name": "stdout",
     "output_type": "stream",
     "text": [
      "[[ 0.  0.  5. ...  0.  0.  0.]\n",
      " [ 0.  0.  0. ... 10.  0.  0.]\n",
      " [ 0.  0.  0. ... 16.  9.  0.]\n",
      " ...\n",
      " [ 0.  0.  1. ...  6.  0.  0.]\n",
      " [ 0.  0.  2. ... 12.  0.  0.]\n",
      " [ 0.  0. 10. ... 12.  1.  0.]]\n",
      "[0 1 2 ... 8 9 8]\n"
     ]
    }
   ],
   "source": [
    "print(df.data)\n",
    "print(df.target)"
   ]
  },
  {
   "cell_type": "code",
   "execution_count": 6,
   "id": "040773bf",
   "metadata": {},
   "outputs": [
    {
     "name": "stdout",
     "output_type": "stream",
     "text": [
      "(1797, 64)\n",
      "(1797, 8, 8)\n"
     ]
    }
   ],
   "source": [
    "print(df.data.shape)\n",
    "print(df.images.shape)\n",
    "dataimageLength=len(df.images)"
   ]
  },
  {
   "cell_type": "code",
   "execution_count": 14,
   "id": "5868ba2a",
   "metadata": {},
   "outputs": [
    {
     "data": {
      "text/plain": [
       "<Figure size 432x288 with 0 Axes>"
      ]
     },
     "metadata": {},
     "output_type": "display_data"
    },
    {
     "data": {
      "image/png": "[encoded data removed]",
      "text/plain": [
       "<Figure size 288x288 with 1 Axes>"
      ]
     },
     "metadata": {
      "needs_background": "light"
     },
     "output_type": "display_data"
    },
    {
     "data": {
      "text/plain": [
       "array([[ 0.,  0.,  7.,  8., 13., 16., 15.,  1.],\n",
       "       [ 0.,  0.,  7.,  7.,  4., 11., 12.,  0.],\n",
       "       [ 0.,  0.,  0.,  0.,  8., 13.,  1.,  0.],\n",
       "       [ 0.,  4.,  8.,  8., 15., 15.,  6.,  0.],\n",
       "       [ 0.,  2., 11., 15., 15.,  4.,  0.,  0.],\n",
       "       [ 0.,  0.,  0., 16.,  5.,  0.,  0.,  0.],\n",
       "       [ 0.,  0.,  9., 15.,  1.,  0.,  0.,  0.],\n",
       "       [ 0.,  0., 13.,  5.,  0.,  0.,  0.,  0.]])"
      ]
     },
     "execution_count": 14,
     "metadata": {},
     "output_type": "execute_result"
    }
   ],
   "source": [
    "n=7\n",
    "import matplotlib.pyplot as plt\n",
    "plt.gray()\n",
    "plt.matshow(df.images[n])\n",
    "plt.show()\n",
    "df.images[n]"
   ]
  },
  {
   "cell_type": "code",
   "execution_count": 16,
   "id": "847f94a0",
   "metadata": {},
   "outputs": [
    {
     "data": {
      "text/plain": [
       "array([[ 0.,  0.,  5., ...,  0.,  0.,  0.],\n",
       "       [ 0.,  0.,  0., ..., 10.,  0.,  0.],\n",
       "       [ 0.,  0.,  0., ..., 16.,  9.,  0.],\n",
       "       ...,\n",
       "       [ 0.,  0.,  1., ...,  6.,  0.,  0.],\n",
       "       [ 0.,  0.,  2., ..., 12.,  0.,  0.],\n",
       "       [ 0.,  0., 10., ..., 12.,  1.,  0.]])"
      ]
     },
     "execution_count": 16,
     "metadata": {},
     "output_type": "execute_result"
    }
   ],
   "source": [
    "X=df.images.reshape(dataimageLength,-1)\n",
    "X"
   ]
  },
  {
   "cell_type": "code",
   "execution_count": 17,
   "id": "deff8ebd",
   "metadata": {},
   "outputs": [
    {
     "data": {
      "text/plain": [
       "array([0, 1, 2, ..., 8, 9, 8])"
      ]
     },
     "execution_count": 17,
     "metadata": {},
     "output_type": "execute_result"
    }
   ],
   "source": [
    "y=df.target\n",
    "y"
   ]
  },
  {
   "cell_type": "code",
   "execution_count": 19,
   "id": "997ff2b3",
   "metadata": {},
   "outputs": [
    {
     "name": "stdout",
     "output_type": "stream",
     "text": [
      "(1347, 64)\n",
      "(450, 64)\n"
     ]
    }
   ],
   "source": [
    "from sklearn.model_selection import train_test_split\n",
    "X_train,X_test,y_train,y_test=train_test_split(X,y,test_size=0.25,random_state=0)\n",
    "print(X_train.shape)\n",
    "print(X_test.shape)"
   ]
  },
  {
   "cell_type": "code",
   "execution_count": 20,
   "id": "13b1f2eb",
   "metadata": {},
   "outputs": [
    {
     "data": {
      "text/plain": [
       "SVC(kernel='linear')"
      ]
     },
     "execution_count": 20,
     "metadata": {},
     "output_type": "execute_result"
    }
   ],
   "source": [
    "from sklearn import svm\n",
    "model=svm.SVC(kernel='linear')\n",
    "model.fit(X_train,y_train)"
   ]
  },
  {
   "cell_type": "code",
   "execution_count": 28,
   "id": "54284934",
   "metadata": {},
   "outputs": [
    {
     "name": "stdout",
     "output_type": "stream",
     "text": [
      "[0]\n",
      "\n",
      "\n"
     ]
    },
    {
     "data": {
      "image/png": "[encoded data removed]",
      "text/plain": [
       "<Figure size 432x288 with 1 Axes>"
      ]
     },
     "metadata": {
      "needs_background": "light"
     },
     "output_type": "display_data"
    }
   ],
   "source": [
    "n=0\n",
    "result=model.predict(df.images[n].reshape(1,-1))\n",
    "plt.imshow(df.images[n],cmap=plt.cm.gray_r,interpolation='nearest')\n",
    "print(result)\n",
    "print(\"\\n\")\n",
    "plt.axis('off')\n",
    "plt.title('%i'%result)\n",
    "plt.show()"
   ]
  },
  {
   "cell_type": "code",
   "execution_count": 34,
   "id": "76fb4c1d",
   "metadata": {},
   "outputs": [
    {
     "name": "stdout",
     "output_type": "stream",
     "text": [
      "[[2 2]\n",
      " [8 8]\n",
      " [2 2]\n",
      " [6 6]\n",
      " [6 6]\n",
      " [7 7]\n",
      " [1 1]\n",
      " [9 9]\n",
      " [8 8]\n",
      " [5 5]\n",
      " [2 2]\n",
      " [8 8]\n",
      " [6 6]\n",
      " [6 6]\n",
      " [6 6]\n",
      " [6 6]\n",
      " [1 1]\n",
      " [0 0]\n",
      " [5 5]\n",
      " [8 8]\n",
      " [8 8]\n",
      " [7 7]\n",
      " [8 8]\n",
      " [4 4]\n",
      " [7 7]\n",
      " [5 5]\n",
      " [4 4]\n",
      " [9 9]\n",
      " [2 2]\n",
      " [9 9]\n",
      " [4 4]\n",
      " [7 7]\n",
      " [6 6]\n",
      " [8 8]\n",
      " [9 9]\n",
      " [4 4]\n",
      " [3 3]\n",
      " [1 1]\n",
      " [0 0]\n",
      " [1 1]\n",
      " [8 8]\n",
      " [6 6]\n",
      " [7 7]\n",
      " [7 7]\n",
      " [1 1]\n",
      " [0 0]\n",
      " [7 7]\n",
      " [6 6]\n",
      " [2 2]\n",
      " [1 1]\n",
      " [9 9]\n",
      " [6 6]\n",
      " [7 7]\n",
      " [9 9]\n",
      " [0 0]\n",
      " [0 0]\n",
      " [5 5]\n",
      " [1 1]\n",
      " [6 6]\n",
      " [3 3]\n",
      " [0 0]\n",
      " [2 2]\n",
      " [3 3]\n",
      " [4 4]\n",
      " [1 1]\n",
      " [9 9]\n",
      " [2 2]\n",
      " [6 6]\n",
      " [9 9]\n",
      " [1 1]\n",
      " [8 8]\n",
      " [3 3]\n",
      " [5 5]\n",
      " [1 1]\n",
      " [2 2]\n",
      " [8 8]\n",
      " [2 2]\n",
      " [2 2]\n",
      " [9 9]\n",
      " [7 7]\n",
      " [2 2]\n",
      " [3 3]\n",
      " [6 6]\n",
      " [0 0]\n",
      " [5 5]\n",
      " [3 3]\n",
      " [7 7]\n",
      " [5 5]\n",
      " [1 1]\n",
      " [2 2]\n",
      " [9 9]\n",
      " [9 9]\n",
      " [3 3]\n",
      " [1 1]\n",
      " [7 7]\n",
      " [7 7]\n",
      " [4 4]\n",
      " [8 8]\n",
      " [5 5]\n",
      " [8 8]\n",
      " [5 5]\n",
      " [5 5]\n",
      " [2 2]\n",
      " [5 5]\n",
      " [9 9]\n",
      " [0 0]\n",
      " [7 7]\n",
      " [1 1]\n",
      " [4 4]\n",
      " [4 7]\n",
      " [3 3]\n",
      " [4 4]\n",
      " [8 8]\n",
      " [9 9]\n",
      " [7 7]\n",
      " [9 9]\n",
      " [8 8]\n",
      " [2 2]\n",
      " [1 6]\n",
      " [5 5]\n",
      " [2 2]\n",
      " [5 5]\n",
      " [8 8]\n",
      " [4 4]\n",
      " [1 8]\n",
      " [7 7]\n",
      " [0 0]\n",
      " [6 6]\n",
      " [1 1]\n",
      " [5 5]\n",
      " [5 9]\n",
      " [9 9]\n",
      " [9 9]\n",
      " [5 5]\n",
      " [9 9]\n",
      " [9 9]\n",
      " [5 5]\n",
      " [7 7]\n",
      " [5 5]\n",
      " [6 6]\n",
      " [2 2]\n",
      " [8 8]\n",
      " [6 6]\n",
      " [9 9]\n",
      " [6 6]\n",
      " [1 1]\n",
      " [5 5]\n",
      " [1 1]\n",
      " [5 5]\n",
      " [9 9]\n",
      " [9 9]\n",
      " [1 1]\n",
      " [5 5]\n",
      " [3 3]\n",
      " [6 6]\n",
      " [1 1]\n",
      " [8 8]\n",
      " [9 9]\n",
      " [8 8]\n",
      " [7 7]\n",
      " [6 6]\n",
      " [7 7]\n",
      " [6 6]\n",
      " [5 5]\n",
      " [6 6]\n",
      " [0 0]\n",
      " [8 8]\n",
      " [8 8]\n",
      " [9 9]\n",
      " [8 8]\n",
      " [6 6]\n",
      " [1 1]\n",
      " [0 0]\n",
      " [4 4]\n",
      " [1 1]\n",
      " [6 6]\n",
      " [3 3]\n",
      " [8 8]\n",
      " [6 6]\n",
      " [7 7]\n",
      " [4 4]\n",
      " [9 5]\n",
      " [6 6]\n",
      " [3 3]\n",
      " [0 0]\n",
      " [3 3]\n",
      " [3 3]\n",
      " [3 3]\n",
      " [0 0]\n",
      " [7 7]\n",
      " [7 7]\n",
      " [5 5]\n",
      " [7 7]\n",
      " [8 8]\n",
      " [0 0]\n",
      " [7 7]\n",
      " [1 8]\n",
      " [9 9]\n",
      " [6 6]\n",
      " [4 4]\n",
      " [5 5]\n",
      " [0 0]\n",
      " [1 1]\n",
      " [4 4]\n",
      " [6 6]\n",
      " [4 4]\n",
      " [3 3]\n",
      " [3 3]\n",
      " [0 0]\n",
      " [9 9]\n",
      " [5 5]\n",
      " [3 9]\n",
      " [2 2]\n",
      " [1 1]\n",
      " [4 4]\n",
      " [2 2]\n",
      " [1 1]\n",
      " [6 6]\n",
      " [8 8]\n",
      " [9 9]\n",
      " [2 2]\n",
      " [4 4]\n",
      " [9 9]\n",
      " [3 3]\n",
      " [7 7]\n",
      " [6 6]\n",
      " [2 2]\n",
      " [3 3]\n",
      " [3 3]\n",
      " [1 1]\n",
      " [6 6]\n",
      " [9 9]\n",
      " [3 3]\n",
      " [6 6]\n",
      " [3 3]\n",
      " [2 2]\n",
      " [2 2]\n",
      " [0 0]\n",
      " [7 7]\n",
      " [6 6]\n",
      " [1 1]\n",
      " [1 1]\n",
      " [9 9]\n",
      " [7 7]\n",
      " [2 2]\n",
      " [7 7]\n",
      " [8 8]\n",
      " [5 5]\n",
      " [5 5]\n",
      " [7 7]\n",
      " [5 5]\n",
      " [2 2]\n",
      " [3 3]\n",
      " [7 7]\n",
      " [2 2]\n",
      " [7 7]\n",
      " [5 5]\n",
      " [5 5]\n",
      " [7 7]\n",
      " [0 0]\n",
      " [9 9]\n",
      " [1 1]\n",
      " [6 6]\n",
      " [5 5]\n",
      " [9 9]\n",
      " [7 7]\n",
      " [4 4]\n",
      " [3 3]\n",
      " [8 8]\n",
      " [0 0]\n",
      " [3 3]\n",
      " [6 6]\n",
      " [4 4]\n",
      " [6 6]\n",
      " [3 3]\n",
      " [2 2]\n",
      " [6 6]\n",
      " [8 8]\n",
      " [8 8]\n",
      " [8 8]\n",
      " [4 4]\n",
      " [6 6]\n",
      " [7 7]\n",
      " [5 5]\n",
      " [2 2]\n",
      " [4 4]\n",
      " [5 5]\n",
      " [3 3]\n",
      " [2 2]\n",
      " [4 4]\n",
      " [6 6]\n",
      " [9 9]\n",
      " [4 4]\n",
      " [5 5]\n",
      " [4 4]\n",
      " [3 3]\n",
      " [4 4]\n",
      " [6 6]\n",
      " [2 2]\n",
      " [9 9]\n",
      " [0 0]\n",
      " [1 1]\n",
      " [7 7]\n",
      " [2 2]\n",
      " [0 0]\n",
      " [9 9]\n",
      " [6 6]\n",
      " [0 0]\n",
      " [4 4]\n",
      " [2 2]\n",
      " [0 0]\n",
      " [7 7]\n",
      " [9 9]\n",
      " [8 8]\n",
      " [5 5]\n",
      " [4 4]\n",
      " [8 8]\n",
      " [2 2]\n",
      " [8 8]\n",
      " [4 4]\n",
      " [3 3]\n",
      " [7 7]\n",
      " [2 2]\n",
      " [6 6]\n",
      " [9 9]\n",
      " [1 1]\n",
      " [5 5]\n",
      " [1 1]\n",
      " [0 0]\n",
      " [8 8]\n",
      " [2 2]\n",
      " [8 1]\n",
      " [9 9]\n",
      " [5 5]\n",
      " [6 6]\n",
      " [2 8]\n",
      " [2 2]\n",
      " [7 7]\n",
      " [2 2]\n",
      " [1 1]\n",
      " [5 5]\n",
      " [1 1]\n",
      " [6 6]\n",
      " [4 4]\n",
      " [5 5]\n",
      " [0 0]\n",
      " [9 9]\n",
      " [4 4]\n",
      " [1 1]\n",
      " [1 1]\n",
      " [7 7]\n",
      " [0 0]\n",
      " [8 8]\n",
      " [9 9]\n",
      " [0 0]\n",
      " [5 5]\n",
      " [4 4]\n",
      " [3 3]\n",
      " [8 8]\n",
      " [8 8]\n",
      " [6 6]\n",
      " [5 5]\n",
      " [3 3]\n",
      " [4 4]\n",
      " [4 4]\n",
      " [4 4]\n",
      " [8 8]\n",
      " [8 8]\n",
      " [7 7]\n",
      " [0 0]\n",
      " [9 9]\n",
      " [6 6]\n",
      " [3 3]\n",
      " [5 5]\n",
      " [2 2]\n",
      " [3 3]\n",
      " [0 0]\n",
      " [8 8]\n",
      " [8 3]\n",
      " [3 3]\n",
      " [1 1]\n",
      " [3 3]\n",
      " [3 3]\n",
      " [0 0]\n",
      " [0 0]\n",
      " [4 4]\n",
      " [6 6]\n",
      " [0 0]\n",
      " [7 7]\n",
      " [7 7]\n",
      " [6 6]\n",
      " [2 2]\n",
      " [0 0]\n",
      " [4 4]\n",
      " [4 4]\n",
      " [2 2]\n",
      " [3 3]\n",
      " [7 7]\n",
      " [1 8]\n",
      " [9 9]\n",
      " [8 8]\n",
      " [6 6]\n",
      " [8 8]\n",
      " [5 5]\n",
      " [6 6]\n",
      " [2 2]\n",
      " [2 2]\n",
      " [3 3]\n",
      " [1 1]\n",
      " [7 7]\n",
      " [7 7]\n",
      " [8 8]\n",
      " [0 0]\n",
      " [3 3]\n",
      " [3 3]\n",
      " [2 2]\n",
      " [1 1]\n",
      " [5 5]\n",
      " [5 5]\n",
      " [9 9]\n",
      " [1 1]\n",
      " [3 3]\n",
      " [7 7]\n",
      " [0 0]\n",
      " [0 0]\n",
      " [7 7]\n",
      " [0 0]\n",
      " [4 4]\n",
      " [5 5]\n",
      " [8 9]\n",
      " [9 3]\n",
      " [3 3]\n",
      " [4 4]\n",
      " [3 3]\n",
      " [1 1]\n",
      " [8 8]\n",
      " [9 9]\n",
      " [8 8]\n",
      " [3 3]\n",
      " [6 6]\n",
      " [2 2]\n",
      " [1 1]\n",
      " [6 6]\n",
      " [2 2]\n",
      " [1 1]\n",
      " [7 7]\n",
      " [5 5]\n",
      " [5 5]\n",
      " [1 1]\n",
      " [9 9]]\n"
     ]
    }
   ],
   "source": [
    "#prediction\n",
    "y_pred=model.predict(X_test)\n",
    "print(np.concatenate((y_pred.reshape(len(y_pred),1),y_test.reshape(len(y_test),1)),1))"
   ]
  },
  {
   "cell_type": "code",
   "execution_count": 35,
   "id": "464719d1",
   "metadata": {},
   "outputs": [
    {
     "name": "stdout",
     "output_type": "stream",
     "text": [
      "The accuracy of the model is 97.11111111111111%\n"
     ]
    }
   ],
   "source": [
    "#Evaluation\n",
    "from sklearn.metrics import accuracy_score\n",
    "print(\"The accuracy of the model is {0}%\".format(accuracy_score(y_test,y_pred)*100))"
   ]
  },
  {
   "cell_type": "code",
   "execution_count": 66,
   "id": "0bdfc241",
   "metadata": {},
   "outputs": [
    {
     "name": "stdout",
     "output_type": "stream",
     "text": [
      "Accuracy of the model is 97.11111111111111%\n",
      "Accuracy of the model2 is 99.11111111111111%\n",
      "Accuracy of the model3 is 99.11111111111111%\n",
      "ACCURACY OF THE MODEL4  IS 97.11111111111111%\n"
     ]
    }
   ],
   "source": [
    "from sklearn import svm\n",
    "model1=svm.SVC(kernel='linear')\n",
    "model2=svm.SVC(kernel='rbf')\n",
    "model3=svm.SVC(gamma=0.002)\n",
    "model4=svm.SVC(gamma=0.0001,C=1)\n",
    "\n",
    "model1.fit(X_train,y_train)\n",
    "model2.fit(X_train,y_train)\n",
    "model3.fit(X_train,y_train)\n",
    "model4.fit(X_train,y_train)\n",
    "\n",
    "y_pred1=model.predict(X_test)\n",
    "y_pred2=model2.predict(X_test)\n",
    "y_pred3=model3.predict(X_test)\n",
    "y_pred4=model4.predict(X_test)\n",
    "\n",
    "print(\"Accuracy of the model is {0}%\".format(accuracy_score(y_test,y_pred1)*100))\n",
    "print(\"Accuracy of the model2 is {0}%\".format(accuracy_score(y_test,y_pred2)*100))\n",
    "print(\"Accuracy of the model3 is {0}%\".format(accuracy_score(y_test,y_pred3)*100))\n",
    "print(\"ACCURACY OF THE MODEL4  IS {0}%\".format(accuracy_score(y_test,y_pred4)*100))"
   ]
  },
  {
   "cell_type": "code",
   "execution_count": null,
   "id": "72b90c05",
   "metadata": {},
   "outputs": [],
   "source": []
  },
  {
   "cell_type": "code",
   "execution_count": null,
   "id": "bcf51409",
   "metadata": {},
   "outputs": [],
   "source": []
  },
  {
   "cell_type": "code",
   "execution_count": null,
   "id": "cbe2be23",
   "metadata": {},
   "outputs": [],
   "source": []
  },
  {
   "cell_type": "code",
   "execution_count": null,
   "id": "26c68c28",
   "metadata": {},
   "outputs": [],
   "source": []
  }
 ],
 "metadata": {
  "kernelspec": {
   "display_name": "Python 3",
   "language": "python",
   "name": "python3"
  },
  "language_info": {
   "codemirror_mode": {
    "name": "ipython",
    "version": 3
   },
   "file_extension": ".py",
   "mimetype": "text/x-python",
   "name": "python",
   "nbconvert_exporter": "python",
   "pygments_lexer": "ipython3",
   "version": "3.8.8"
  }
 },
 "nbformat": 4,
 "nbformat_minor": 5
}
